{
 "cells": [
  {
   "cell_type": "markdown",
   "id": "23b426af-8208-46e9-ba34-b8412195acee",
   "metadata": {},
   "source": [
    "## EDA & Viz- Multiple datasets - Olist Brazilian E-Commerce Dataset"
   ]
  },
  {
   "cell_type": "markdown",
   "id": "7a3da0a4-1c74-4c30-b551-20dac32877e3",
   "metadata": {},
   "source": [
    "### Intro"
   ]
  },
  {
   "cell_type": "markdown",
   "id": "c58390d1-1df2-439e-a386-edf222ab90ac",
   "metadata": {},
   "source": [
    "The goal of this project is to extract insights from Olist's e-commerce datasets about brazilian stores, customers and purchased items.\n",
    "\n",
    "This is the [Kaggle's dataset](https://www.kaggle.com/datasets/olistbr/brazilian-ecommerce?datasetId=55151&sortBy=voteCount).\n",
    "\n",
    "Olist has released a dataset with 100k orders made between 2016 and 2018. Each order has some information about the customer and their orders."
   ]
  },
  {
   "cell_type": "markdown",
   "id": "8ad1d9d6-2c48-4408-b9cb-003a0ea4d2f4",
   "metadata": {},
   "source": [
    "### Goals"
   ]
  },
  {
   "cell_type": "markdown",
   "id": "7573d6f9-3871-44a0-9edf-3aed577558d0",
   "metadata": {},
   "source": [
    "- Identify top states related to payment value;\n",
    "- Identify states with the bigest and lowest average ticket;\n",
    "- Identify most/less selled product categories;\n",
    "- Identify most/less profitable product categories;\n",
    "- Identify categories with the bigest average ticket;\n",
    "- Identify correlations between order price and other features."
   ]
  },
  {
   "cell_type": "markdown",
   "id": "4ec1f5bf-5e0d-4627-8fbb-d404854f3829",
   "metadata": {},
   "source": [
    "### Getting started"
   ]
  },
  {
   "cell_type": "markdown",
   "id": "d1baf360-a345-4036-91d5-68f9ffdef579",
   "metadata": {},
   "source": [
    "Basics firsts (libraries and importing datasets)..."
   ]
  },
  {
   "cell_type": "code",
   "execution_count": null,
   "id": "5b151214-6a8b-4aee-89d5-baa83bdb3053",
   "metadata": {
    "tags": []
   },
   "outputs": [],
   "source": [
    "import numpy as np\n",
    "import pandas as pd\n",
    "import matplotlib.pyplot as plt\n",
    "import seaborn as sns\n",
    "import plotly.express as px\n",
    "import altair as alt\n",
    "\n",
    "plt.style.use(\"ggplot\")\n",
    "%load_ext lab_black"
   ]
  },
  {
   "cell_type": "code",
   "execution_count": null,
   "id": "ee44f51c-3611-4de1-97b5-9934d8f3ab88",
   "metadata": {},
   "outputs": [],
   "source": [
    "df_order = pd.read_csv(\"olist_orders_dataset.csv\")\n",
    "df_items = pd.read_csv(\"olist_order_items_dataset.csv\")\n",
    "df_payments = pd.read_csv(\"olist_order_payments_dataset.csv\")\n",
    "df_products = pd.read_csv(\"olist_products_dataset.csv\")\n",
    "df_customers = pd.read_csv(\"olist_customers_dataset.csv\")\n",
    "df_translate = pd.read_csv(\"product_category_name_translation (1).csv\")"
   ]
  },
  {
   "cell_type": "markdown",
   "id": "bd609ba5-f233-40ba-bd9e-4ac10720e488",
   "metadata": {},
   "source": [
    "Taking a look at the datasets..."
   ]
  },
  {
   "cell_type": "code",
   "execution_count": null,
   "id": "eebe1899-a0fd-4be6-9813-8cca57dff3cf",
   "metadata": {},
   "outputs": [],
   "source": [
    "df_order.head()"
   ]
  },
  {
   "cell_type": "code",
   "execution_count": null,
   "id": "8a0b968b-cd47-41e6-b92b-b846a45022f7",
   "metadata": {},
   "outputs": [],
   "source": [
    "df_items.head()"
   ]
  },
  {
   "cell_type": "code",
   "execution_count": null,
   "id": "2202afb0-18b2-4b3f-81d8-79d70758ddc7",
   "metadata": {},
   "outputs": [],
   "source": [
    "df_payments.head()"
   ]
  },
  {
   "cell_type": "code",
   "execution_count": null,
   "id": "3a94ef36-2a43-45cd-a7c5-9ee79af74f65",
   "metadata": {},
   "outputs": [],
   "source": [
    "df_products.head()"
   ]
  },
  {
   "cell_type": "code",
   "execution_count": null,
   "id": "f288e6e3-aa67-45d3-ba37-71dfe839c3c1",
   "metadata": {},
   "outputs": [],
   "source": [
    "df_customers.head()"
   ]
  },
  {
   "cell_type": "code",
   "execution_count": null,
   "id": "c3d65068-ebda-4dd2-8f1d-1f9ddc611d82",
   "metadata": {},
   "outputs": [],
   "source": [
    "# Joining the data I want and cleaning the output dataset. Note the order change to further easy interpretation (in my opinion).\n",
    "\n",
    "df = (\n",
    "    df_order.merge(\n",
    "        df_customers[[\"customer_id\", \"customer_city\", \"customer_state\"]],\n",
    "        on=\"customer_id\",\n",
    "        how=\"left\",\n",
    "    )\n",
    "    .merge(\n",
    "        df_items[[\"order_id\", \"product_id\", \"order_item_id\", \"price\"]],\n",
    "        on=\"order_id\",\n",
    "        how=\"left\",\n",
    "    )\n",
    "    .merge(\n",
    "        df_products[[\"product_id\", \"product_category_name\"]],\n",
    "        on=\"product_id\",\n",
    "        how=\"left\",\n",
    "    )\n",
    "    .merge(\n",
    "        df_payments[\n",
    "            [\"order_id\", \"payment_type\", \"payment_installments\", \"payment_value\"]\n",
    "        ],\n",
    "        on=\"order_id\",\n",
    "        how=\"left\",\n",
    "    )\n",
    "    .merge(df_translate, on=\"product_category_name\", how=\"left\")\n",
    "    .drop(\n",
    "        columns=[\n",
    "            \"product_category_name\",\n",
    "            \"order_status\",\n",
    "            \"order_approved_at\",\n",
    "            \"order_delivered_carrier_date\",\n",
    "            \"order_delivered_customer_date\",\n",
    "            \"order_estimated_delivery_date\",\n",
    "        ]\n",
    "    )\n",
    ")\n",
    "\n",
    "df.head()"
   ]
  },
  {
   "cell_type": "code",
   "execution_count": null,
   "id": "3f72fabd-0413-4d23-b8fc-624328fb4a4b",
   "metadata": {},
   "outputs": [],
   "source": [
    "df.info()"
   ]
  },
  {
   "cell_type": "markdown",
   "id": "d0afb44c-c886-42eb-914e-e608d0c22a0c",
   "metadata": {},
   "source": [
    "We have some NaN values here. For simplification, I decided to drop the NaN raws since they represent less than 5% of the dataset."
   ]
  },
  {
   "cell_type": "code",
   "execution_count": null,
   "id": "9f3bfe45-dd8d-465c-b96d-8cf0133eb8ea",
   "metadata": {},
   "outputs": [],
   "source": [
    "df = df.dropna()\n",
    "df.info()"
   ]
  },
  {
   "cell_type": "markdown",
   "id": "81de356e-eb94-4464-ac57-bcae42ddb9fa",
   "metadata": {},
   "source": [
    "I'd like to make some further analysis that will use date and time features, so i'll use convert the column `order_purchase_timestamp`."
   ]
  },
  {
   "cell_type": "code",
   "execution_count": null,
   "id": "42eb85d1-050f-4dad-9229-312d78da0854",
   "metadata": {},
   "outputs": [],
   "source": [
    "df[[\"order_purchase_timestamp\",]] = df[[\"order_purchase_timestamp\",]].apply(\n",
    "    pd.to_datetime\n",
    ")\n",
    "# df [['x','y','z']] = df [['order_purchase_timestamp','order_delivered_customer_date','order_delivered_customer_date']].apply(pd.to_datetime)\n",
    "df.info()"
   ]
  },
  {
   "cell_type": "code",
   "execution_count": null,
   "id": "11e1f9b9-4ce8-476f-8cae-7f276f37384d",
   "metadata": {},
   "outputs": [],
   "source": [
    "# Creating periods of the day classification for purchase time\n",
    "\n",
    "df[\"purchase_time_class\"] = df[\"order_purchase_timestamp\"].apply(\n",
    "    lambda x: \"morning\"\n",
    "    if (x.hour < 12 and x.hour >= 6)\n",
    "    else (\n",
    "        \"afternoon\"\n",
    "        if (x.hour < 18 and x.hour >= 12)\n",
    "        else (\"night\" if (x.hour < 24 and x.hour >= 18) else \"dawn\")\n",
    "    )\n",
    ")"
   ]
  },
  {
   "cell_type": "code",
   "execution_count": null,
   "id": "c78fd72b-8be9-4b17-988b-63f0f066a911",
   "metadata": {},
   "outputs": [],
   "source": [
    "# Creating seasons classificantion for purchase time.\n",
    "# PS: That's brazilian's season and it will be a proxy for simplification purposes.\n",
    "\n",
    "import datetime\n",
    "\n",
    "df[\"year_season\"] = df[\"order_purchase_timestamp\"].apply(\n",
    "    lambda x: \"summer\"\n",
    "    if x.month <= 3 and x.month >= 1\n",
    "    else (\n",
    "        \"spring\"\n",
    "        if x.month >= 10 and x.month <= 12\n",
    "        else (\"winter\" if x.month >= 7 and x.month <= 9 else \"autumn\")\n",
    "    )\n",
    ")"
   ]
  },
  {
   "cell_type": "code",
   "execution_count": null,
   "id": "9e8e7a0a-2adc-4f2c-9b7a-5d8e350c3358",
   "metadata": {},
   "outputs": [],
   "source": [
    "df.head()"
   ]
  },
  {
   "cell_type": "markdown",
   "id": "59f8425a-a54e-4475-9e85-c39605027ef3",
   "metadata": {},
   "source": [
    "So, let's remember what was done so far:\n",
    "\n",
    "- Imported libraries and datasets;\n",
    "- Created a final dataset by joining useful information from the existing datasets;\n",
    "- Removed columns that will not be used;\n",
    "- Ordered the final dataset to be more interpretable;\n",
    "- Removed rows with NaN values;\n",
    "- Converted dates to datetime type;\n",
    "- And classified the orders by period of the day and year that happened."
   ]
  },
  {
   "cell_type": "markdown",
   "id": "e787e7ed-9998-49ff-8d1f-cb359d04724a",
   "metadata": {},
   "source": [
    "### Exploring the features"
   ]
  },
  {
   "cell_type": "markdown",
   "id": "50f2c3c4-a941-4a2d-ac0e-c9fa6046ef5d",
   "metadata": {},
   "source": [
    "Finally, after the data preparation we can start our analysis.\n",
    "\n",
    "I'll take a look at the features."
   ]
  },
  {
   "cell_type": "code",
   "execution_count": null,
   "id": "0b4f5cad-91f2-4d25-a039-45e0b22f34e9",
   "metadata": {},
   "outputs": [],
   "source": [
    "plt.figure(figsize=(25, 15))\n",
    "\n",
    "fig1 = px.histogram(\n",
    "    df, x=\"customer_state\", y=\"payment_value\", barmode=\"group\", color=\"payment_type\",\n",
    ").update_xaxes(categoryorder=\"total descending\")\n",
    "fig1.show()"
   ]
  },
  {
   "cell_type": "markdown",
   "id": "26333d60-9cad-43f5-b6c2-1b7d90e6465e",
   "metadata": {},
   "source": [
    "Wow, it looks like that most of the value comes from SP.\n",
    "\n",
    "Let's take a closer look at the 5 top states."
   ]
  },
  {
   "cell_type": "code",
   "execution_count": null,
   "id": "cda16ce4-8cf7-438c-b6e4-2485876eae13",
   "metadata": {},
   "outputs": [],
   "source": [
    "# Creating a list of top 5 and a boxplot to them\n",
    "list_5 = list(\n",
    "    (\n",
    "        df.groupby(\"customer_state\")\n",
    "        .sum()\n",
    "        .sort_values(\"payment_value\", ascending=False)\n",
    "        .reset_index()[\"customer_state\"][:5]\n",
    "    )\n",
    ")\n",
    "plt.figure(figsize=(20, 10))\n",
    "sns.set(style=\"darkgrid\")\n",
    "sns.boxplot(\n",
    "    data=df[df[\"customer_state\"].isin(list_5)],\n",
    "    x=\"customer_state\",\n",
    "    y=\"payment_value\",\n",
    "    palette=\"dark\",\n",
    "    order=list_5,\n",
    ")\n",
    "sns.despine(left=True)"
   ]
  },
  {
   "cell_type": "markdown",
   "id": "0f013b9a-a86a-4ba0-9b56-d5e684e65696",
   "metadata": {},
   "source": [
    "That's not so clarifying, but it's possible o identify some outliers that puts SP and RJ way above the others states. How are these states cities doing?"
   ]
  },
  {
   "cell_type": "code",
   "execution_count": null,
   "id": "4b8a93b1-6b55-46f2-a5da-2b5687536588",
   "metadata": {},
   "outputs": [],
   "source": [
    "alt.Chart(\n",
    "    df[(df[\"customer_state\"] == \"SP\") | (df[\"customer_state\"] == \"RJ\")]\n",
    "    .groupby(\"customer_city\")\n",
    "    .sum()\n",
    "    .sort_values(\"payment_value\", ascending=False)\n",
    "    .reset_index()[:10]\n",
    ").mark_bar().encode(alt.X(\"customer_city\", sort=\"-y\"), y=\"payment_value\").properties(\n",
    "    width=800, height=300\n",
    ")"
   ]
  },
  {
   "cell_type": "markdown",
   "id": "143ec2f5-4cbc-4ea2-9653-e8fec4007284",
   "metadata": {},
   "source": [
    "As expected, the major cities of the states are also the ones which has spent more money.\n",
    "\n",
    "Moving on... Let's see which states has the higher and de lesser average tickets."
   ]
  },
  {
   "cell_type": "code",
   "execution_count": null,
   "id": "cae04053-db91-41be-ab73-687baed11d8f",
   "metadata": {},
   "outputs": [],
   "source": [
    "# Creating a new dataset to calculate the average ticket\n",
    "df_tm_state = pd.concat(\n",
    "    [\n",
    "        df.groupby(\"customer_state\")\n",
    "        .count()\n",
    "        .sort_values(\"customer_state\")\n",
    "        .reset_index()[[\"customer_state\", \"order_id\"]],\n",
    "        df.groupby(\"customer_state\")\n",
    "        .sum()\n",
    "        .sort_values(\"customer_state\")\n",
    "        .reset_index()[\"payment_value\"],\n",
    "    ],\n",
    "    axis=1,\n",
    ")\n",
    "\n",
    "df_tm_state[\"average_ticket\"] = df_tm_state[\"payment_value\"] / (df_tm_state[\"order_id\"])\n",
    "\n",
    "# Using Altair to plot a simple graph to plot top 10\n",
    "\n",
    "alt.Chart(\n",
    "    df_tm_state.sort_values(\"average_ticket\", ascending=False)\n",
    "    .reset_index()\n",
    "    .drop(columns=\"index\")[:10]\n",
    ").mark_bar().encode(\n",
    "    alt.X(\"customer_state\", sort=\"-y\"),\n",
    "    y=\"average_ticket\",\n",
    "    tooltip=[alt.Tooltip(\"payment_value\"), alt.Tooltip(\"order_id\")],\n",
    ").properties(\n",
    "    width=1000, height=500\n",
    ")"
   ]
  },
  {
   "cell_type": "markdown",
   "id": "c345b523-797d-4115-a6fb-5ee05123f425",
   "metadata": {},
   "source": [
    "Here we have an interesting information. None of the top states we saw before are among the higher average ticket. \n",
    "Since this states are bit far away from the logistics center, maybe the freight price pulled up the total payment value. And the installments may be a part of it too...\n",
    "\n",
    "On the other hand..."
   ]
  },
  {
   "cell_type": "code",
   "execution_count": null,
   "id": "5aa30e22-0dab-47db-b153-cf02e2c6f516",
   "metadata": {},
   "outputs": [],
   "source": [
    "# Using Altair to plot a simple graph to plot last 10\n",
    "alt.Chart(\n",
    "    df_tm_state.sort_values(\"average_ticket\", ascending=False)\n",
    "    .reset_index()\n",
    "    .drop(columns=\"index\")[-10:]\n",
    ").mark_bar().encode(\n",
    "    alt.X(\"customer_state\", sort=\"-y\"),\n",
    "    y=\"average_ticket\",\n",
    "    tooltip=[alt.Tooltip(\"payment_value\"), alt.Tooltip(\"order_id\")],\n",
    ").properties(\n",
    "    width=1000, height=500\n",
    ")"
   ]
  },
  {
   "cell_type": "markdown",
   "id": "675aeec0-30a4-428b-9bad-ded02e86c804",
   "metadata": {},
   "source": [
    "SP, RJ, MG, etc, appears here.\n",
    "\n",
    "So, although they have a higher total payment value, their average ticket are lower. Again, since they're in the central region of the country and concentrates most of logistics infraestructure, maybe there is no freight to raise the payment value.\n",
    "\n",
    "\n",
    "Moving on to the product categories..."
   ]
  },
  {
   "cell_type": "code",
   "execution_count": null,
   "id": "e2836590-c51c-4eb5-ae42-b00f6ef85489",
   "metadata": {},
   "outputs": [],
   "source": [
    "# Creating a top ten product categories bar plot\n",
    "\n",
    "sns.set(style=\"darkgrid\")\n",
    "with sns.plotting_context(\"notebook\", font_scale=3):\n",
    "    sns.catplot(\n",
    "        x=\"product_category_name_english\",\n",
    "        y=\"payment_value\",\n",
    "        kind=\"bar\",\n",
    "        data=df.groupby(\"product_category_name_english\")\n",
    "        .sum()\n",
    "        .sort_values(\"payment_value\", ascending=False)\n",
    "        .reset_index()[:10],\n",
    "        height=20,\n",
    "        aspect=2,\n",
    "        color=\"green\",\n",
    "    )\n",
    "# plt.figure(figsize=(20, 10))\n",
    "plt.xticks(rotation=45)"
   ]
  },
  {
   "cell_type": "markdown",
   "id": "eb9a6f75-5dba-45ae-bb9e-7852e5ae8cd5",
   "metadata": {},
   "source": [
    "As we can see, the highlight is the top 6 categories. Let's take a look at the other side. "
   ]
  },
  {
   "cell_type": "code",
   "execution_count": null,
   "id": "8a844523-8ba5-41d8-ab9a-50421daa90fe",
   "metadata": {},
   "outputs": [],
   "source": [
    "sns.set(style=\"darkgrid\")\n",
    "with sns.plotting_context(\"notebook\", font_scale=3):\n",
    "    sns.catplot(\n",
    "        x=\"product_category_name_english\",\n",
    "        y=\"payment_value\",\n",
    "        kind=\"bar\",\n",
    "        data=df.groupby(\"product_category_name_english\")\n",
    "        .sum()\n",
    "        .sort_values(\"payment_value\", ascending=False)\n",
    "        .reset_index()[-10:],\n",
    "        height=20,\n",
    "        aspect=2,\n",
    "        color=\"green\",\n",
    "    )\n",
    "# plt.figure(figsize=(20, 10))\n",
    "plt.xticks(rotation=45)"
   ]
  },
  {
   "cell_type": "markdown",
   "id": "9f0ef810-53ec-4714-a773-7232601b189a",
   "metadata": {},
   "source": [
    "The 10 categories with lower payment value are under 5.000 and the last 2 ones are under 1.000. There is a huge diference between categories then.\n",
    "\n",
    "And what about the amount of items sold?"
   ]
  },
  {
   "cell_type": "code",
   "execution_count": null,
   "id": "35a881df-a532-4904-9d85-3c3636c5e372",
   "metadata": {},
   "outputs": [],
   "source": [
    "upper = (\n",
    "    alt.Chart(\n",
    "        df.groupby(\"product_category_name_english\")\n",
    "        .count()\n",
    "        .sort_values(\"order_id\", ascending=False)\n",
    "        .reset_index()\n",
    "        .rename(columns={\"order_id\": (\"items_sold\")})[\n",
    "            [\"product_category_name_english\", \"items_sold\"]\n",
    "        ][:10]\n",
    "    )\n",
    "    .mark_bar()\n",
    "    .encode(alt.X(\"product_category_name_english\", sort=\"-y\"), y=\"items_sold\",)\n",
    "    .properties(width=1200, height=400)\n",
    ")\n",
    "\n",
    "lower = (\n",
    "    alt.Chart(\n",
    "        df.groupby(\"product_category_name_english\")\n",
    "        .count()\n",
    "        .sort_values(\"order_id\", ascending=False)\n",
    "        .reset_index()\n",
    "        .rename(columns={\"order_id\": (\"items_sold\")})[\n",
    "            [\"product_category_name_english\", \"items_sold\"]\n",
    "        ][-10:]\n",
    "    )\n",
    "    .mark_bar()\n",
    "    .encode(alt.X(\"product_category_name_english\", sort=\"-y\"), y=\"items_sold\",)\n",
    "    .properties(width=1200, height=400)\n",
    ")\n",
    "\n",
    "upper & lower"
   ]
  },
  {
   "cell_type": "markdown",
   "id": "79567287-33a8-43d9-ac57-08d4131ac062",
   "metadata": {},
   "source": [
    "Again, a huge diference. And it seems like to corroborate with our last analysis, since the same categories appears on both graphs.\n",
    "For instance, `bed_bath_table` is top 1 on both.\n",
    "\n",
    "Moving on to analyzing the average ticket of categories."
   ]
  },
  {
   "cell_type": "code",
   "execution_count": null,
   "id": "342d3f46-249f-4a6e-b0ee-8155fb69256d",
   "metadata": {},
   "outputs": [],
   "source": [
    "# Creating a new dataset for the average ticket\n",
    "df_tm_categories = pd.concat(\n",
    "    [\n",
    "        df.groupby(\"product_category_name_english\")\n",
    "        .count()\n",
    "        .sort_values(\"product_category_name_english\")\n",
    "        .reset_index()[[\"product_category_name_english\", \"order_id\"]],\n",
    "        df.groupby(\"product_category_name_english\")\n",
    "        .sum()\n",
    "        .sort_values(\"product_category_name_english\")\n",
    "        .reset_index()[\"payment_value\"],\n",
    "    ],\n",
    "    axis=1,\n",
    ")\n",
    "\n",
    "df_tm_categories[\"average_ticket\"] = df_tm_categories[\"payment_value\"] / (\n",
    "    df_tm_categories[\"order_id\"]\n",
    ")\n",
    "\n",
    "# Implementing a two rows plot with the first 10 and last 10 average tickets\n",
    "upper = (\n",
    "    alt.Chart(\n",
    "        df_tm_categories.sort_values(\"average_ticket\", ascending=False)\n",
    "        .reset_index()\n",
    "        .drop(columns=\"index\")[:10]\n",
    "    )\n",
    "    .mark_bar()\n",
    "    .encode(\n",
    "        alt.X(\"product_category_name_english\", sort=\"-y\"),\n",
    "        y=\"average_ticket\",\n",
    "        tooltip=[alt.Tooltip(\"average_ticket\")],\n",
    "    )\n",
    "    .properties(width=1200, height=400)\n",
    ")\n",
    "\n",
    "lower = (\n",
    "    alt.Chart(\n",
    "        df_tm_categories.sort_values(\"average_ticket\", ascending=False)\n",
    "        .reset_index()\n",
    "        .drop(columns=\"index\")[-10:]\n",
    "    )\n",
    "    .mark_bar()\n",
    "    .encode(\n",
    "        alt.X(\"product_category_name_english\", sort=\"-y\"),\n",
    "        y=\"average_ticket\",\n",
    "        tooltip=[alt.Tooltip(\"average_ticket\")],\n",
    "    )\n",
    "    .properties(width=1200, height=400)\n",
    ")\n",
    "\n",
    "upper & lower"
   ]
  },
  {
   "cell_type": "markdown",
   "id": "f6ce1d47-2d93-4a84-97a8-0227a4275f35",
   "metadata": {},
   "source": [
    "The computer category stands out from the rest and it makes sense, since computers have high added value.\n",
    "\n",
    "On the other hand, home confort and flowers have lower added value, so, naturally, their average ticket are the lowest ones (under 70)."
   ]
  },
  {
   "cell_type": "markdown",
   "id": "11bdf588-6adb-46aa-8cf9-6b4ce23fa01f",
   "metadata": {},
   "source": [
    "### Feature relations"
   ]
  },
  {
   "cell_type": "markdown",
   "id": "9a2193d4-39a5-40a9-820a-50fadc343dc1",
   "metadata": {},
   "source": [
    "Now, we're going to analyze the relationship between variables.\n",
    "\n",
    "Are there correlation between price and time of buying? And what about the season?\n",
    "Does the credit card are related to higher value orders?\n",
    "\n",
    "LET'S CHECK OUT!"
   ]
  },
  {
   "cell_type": "code",
   "execution_count": null,
   "id": "761f59d1-4a8e-4af9-b534-47887fb6b1a9",
   "metadata": {},
   "outputs": [],
   "source": [
    "alt.data_transformers.disable_max_rows()\n",
    "\n",
    "alt.Chart(df).mark_point().encode(\n",
    "    x=alt.X(\n",
    "        field=\"year_season\",\n",
    "        type=\"nominal\",\n",
    "        sort=[\"spring\", \"summer\", \"autumn\", \"winter\"],\n",
    "    ),\n",
    "    y=\"payment_value:Q\",\n",
    "    color=\"payment_type:N\",\n",
    "    column=\"payment_type:N\",\n",
    ").properties(width=300, height=250)"
   ]
  },
  {
   "cell_type": "code",
   "execution_count": null,
   "id": "f6d44734-5305-4911-93a3-b2726c425a51",
   "metadata": {},
   "outputs": [],
   "source": [
    "alt.Chart(df).mark_point().encode(\n",
    "    x=alt.X(\n",
    "        field=\"purchase_time_class\",\n",
    "        type=\"nominal\",\n",
    "        sort=[\"morning\", \"afternoon\", \"night\", \"dawn\"],\n",
    "    ),\n",
    "    y=\"payment_value:Q\",\n",
    "    color=\"payment_type:N\",\n",
    "    column=\"payment_type:N\",\n",
    ").properties(width=300, height=250)"
   ]
  },
  {
   "cell_type": "markdown",
   "id": "704e73d9-8168-4d39-8780-9435c14dc135",
   "metadata": {},
   "source": [
    "Although we have so many outliers, its possible to tell that there's no easy noticeable correlation. With the exception of dawn, that has fewer orders, the other periods of the day has similar buying behavior.\n",
    "\n",
    "It seems like that on autumn and winter the overall payment value is a little bit higher. And, visually, it's possible to see that apparently the majority of the orders are paid with credit card, the purchase time is more often afternoon and night and at summer and autumn."
   ]
  },
  {
   "cell_type": "code",
   "execution_count": null,
   "id": "485ee64f-19af-4ce7-927e-f522d0856912",
   "metadata": {},
   "outputs": [],
   "source": [
    "# Creating a mean with error whiskers plot to see the overall trend\n",
    "plt.figure(figsize=(20, 10))\n",
    "sns.pointplot(\n",
    "    x=\"purchase_time_class\", y=\"payment_value\", hue=\"payment_type\", data=df, dodge=True\n",
    ")"
   ]
  },
  {
   "cell_type": "code",
   "execution_count": null,
   "id": "4f53adb3-4fb4-4851-b1f2-9089493ff570",
   "metadata": {},
   "outputs": [],
   "source": [
    "plt.figure(figsize=(20, 10))\n",
    "sns.pointplot(\n",
    "    x=\"year_season\",\n",
    "    y=\"payment_value\",\n",
    "    hue=\"payment_type\",\n",
    "    order=[\"spring\", \"summer\", \"autumn\", \"winter\"],\n",
    "    data=df,\n",
    "    dodge=True,\n",
    ")"
   ]
  },
  {
   "cell_type": "markdown",
   "id": "46e4a6ad-f78b-44f0-9242-60cacfdbe6fb",
   "metadata": {},
   "source": [
    "It confirms what we suspected before. No correlations screaming on the screen."
   ]
  },
  {
   "cell_type": "markdown",
   "id": "7ccd513e-c790-4ff7-85f6-516a2e2a1b07",
   "metadata": {},
   "source": [
    "### Conclusion"
   ]
  },
  {
   "cell_type": "markdown",
   "id": "e67e74a2-f175-40de-8f23-c47b69b67fa6",
   "metadata": {},
   "source": [
    "So, at the end, we were able to achieve our initial goals.\n",
    "\n",
    "It is importante to say that the OLIST datasets has way more features and many aspects to study than I explored here. I decided to try to explore categorical features (even created ones), 'cause I want to practice the visualiton and libraries.\n",
    "\n",
    "Feel free to contribute. I'm a learner.\n",
    "\n",
    "That's all folks!"
   ]
  }
 ],
 "metadata": {
  "kernelspec": {
   "display_name": "Python 3 (ipykernel)",
   "language": "python",
   "name": "python3"
  },
  "language_info": {
   "codemirror_mode": {
    "name": "ipython",
    "version": 3
   },
   "file_extension": ".py",
   "mimetype": "text/x-python",
   "name": "python",
   "nbconvert_exporter": "python",
   "pygments_lexer": "ipython3",
   "version": "3.9.7"
  }
 },
 "nbformat": 4,
 "nbformat_minor": 5
}
